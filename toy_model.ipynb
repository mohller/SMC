{
 "cells": [
  {
   "cell_type": "markdown",
   "metadata": {},
   "source": [
    "# Toy Model\n",
    "\n",
    "### Explanation\n",
    "This notebook shows the preparation of data for the ML algorythm. It produces a file containing positions and momenta of photons and a flag stating their success/failure in arriving to the interest region."
   ]
  },
  {
   "cell_type": "code",
   "execution_count": 12,
   "metadata": {
    "collapsed": false
   },
   "outputs": [
    {
     "data": {
      "image/png": "[encoded data removed]",
      "text/plain": [
       "<matplotlib.figure.Figure at 0x7fdfed433810>"
      ]
     },
     "metadata": {},
     "output_type": "display_data"
    }
   ],
   "source": [
    "%matplotlib inline\n",
    "from scipy.stats import expon\n",
    "\n",
    "mu = 7 # mass absorption coefficient\n",
    "\n",
    "d = expon.rvs(size=1000000)\n",
    "\n",
    "plt.hist(d/mu);\n",
    "plt.yscale('log')"
   ]
  },
  {
   "cell_type": "markdown",
   "metadata": {},
   "source": [
    "### ModelA: no absorption"
   ]
  },
  {
   "cell_type": "code",
   "execution_count": 2,
   "metadata": {
    "collapsed": false
   },
   "outputs": [],
   "source": [
    "def function(N, R=0.1, a=1., b=.2):\n",
    "    # Return N particles' momenta, dircosines and success/arrival flag\n",
    "    # for the 2D square, with isotropic source in center and mu coeff.\n",
    "    \n",
    "    do = a/2 - b\n",
    "    no = np.vstack(N*(do*np.ones(2)))\n",
    "    \n",
    "    theta = 2*np.pi*np.random.rand(N)\n",
    "\n",
    "    tx = np.cos(theta)\n",
    "    ty = np.sin(theta)\n",
    "\n",
    "    x,y = R*tx, R*ty\n",
    "        \n",
    "    t = np.array([tx,ty])\n",
    "    T = do * t\n",
    "    n = T-no\n",
    "    \n",
    "    success = []\n",
    "    for i in range(N):\n",
    "        if (tx[i]>0) and (ty[i]>0): #photon oriented towards top-right corner\n",
    "            success.append(n[1,i]/n[0,i]>0)\n",
    "        else:\n",
    "            success.append(False)\n",
    "    \n",
    "    return np.array([x,y,tx,ty,success]).transpose()\n",
    "\n",
    "data = function(5)\n",
    "\n",
    "np.savetxt('data.txt',data,fmt=4*'% .6f   '+'%d')"
   ]
  },
  {
   "cell_type": "markdown",
   "metadata": {},
   "source": [
    "### ModelB: absorption included\n",
    "\n",
    "Here the function will include absorption by sampling survival probability. Since the survival probability function for a photon after having crossed certain thickness $t$ is:\n",
    "$$P = e^{-\\mu t}$$\n",
    "then a random number is generated from $0$ to $1$. If the number is bigger than $P$ the particle success is set to $1$ (depending on direction to interest region) otherwise is set to $0$ regardless of direction.\n",
    "\n",
    "So a new function here, *absorp()*, takes the output from the previous function and modifies the sucess values by finding the absorptino probability and sampling randomly. "
   ]
  },
  {
   "cell_type": "code",
   "execution_count": 8,
   "metadata": {
    "collapsed": false
   },
   "outputs": [],
   "source": [
    "def absorp(array_xy_txty_success, a=1., b=.2, mu=1.):\n",
    "    # Takes N particles' momenta, dircosines and success/arrival flag\n",
    "    # for the 2D square, with isotropic source in center and mu coeff.\n",
    "    # then simulates absorption process\n",
    "    \n",
    "    do = a/2 - b\n",
    "       \n",
    "    N = len(array_xy_txty_success[:,0])\n",
    "    \n",
    "    P = np.exp(-mu*do)\n",
    "    \n",
    "    array_xy_txty_success[:,-1] *= (np.random.rand(N) > P)\n",
    "    \n",
    "    return array_xy_txty_success\n",
    "\n",
    "data = function(50,mu=5)\n",
    "\n",
    "data = absorp(data)\n",
    "\n",
    "np.savetxt('data_absorption_ON.txt',data,fmt=4*'% .6f   '+'%d')"
   ]
  }
 ],
 "metadata": {
  "kernelspec": {
   "display_name": "Python 2",
   "language": "python",
   "name": "python2"
  },
  "language_info": {
   "codemirror_mode": {
    "name": "ipython",
    "version": 2
   },
   "file_extension": ".py",
   "mimetype": "text/x-python",
   "name": "python",
   "nbconvert_exporter": "python",
   "pygments_lexer": "ipython2",
   "version": "2.7.12"
  }
 },
 "nbformat": 4,
 "nbformat_minor": 1
}
